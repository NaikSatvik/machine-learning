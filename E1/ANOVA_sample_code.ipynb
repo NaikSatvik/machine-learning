{
  "cells": [
    {
      "cell_type": "code",
      "execution_count": null,
      "metadata": {
        "id": "1y2Z8cqjyxXn"
      },
      "outputs": [],
      "source": [
        "#here we are doing ANOVA test for drive-wheels attribute\n",
        "grouped_test2=df[['drive-wheels', 'price']].groupby(['drive-wheels'])   \n",
        "#we can use the function 'f_oneway' in the module 'stats' to obtain the F-test score and P-value\n",
        "from scipy import stats\n",
        "#because drive-wheels has unique values ('fwd','rwd','4wd') we pass it as argument of ANOVA function\n",
        "f_val, p_val = stats.f_oneway(grouped_test2.get_group('fwd')['price'], grouped_test2.get_group('rwd')['price'], grouped_test2.get_group('4wd')['price'])  \n",
        " \n",
        "print( \"ANOVA results: F=\", f_val, \", P =\", p_val)"
      ]
    },
    {
      "cell_type": "code",
      "execution_count": null,
      "metadata": {
        "id": "vYbP4EB6zU6-"
      },
      "outputs": [],
      "source": [
        "#dfn=number of columns-1\n",
        "dfn1=3-1\n",
        "dfd1=grouped_test2.get_group('fwd')['price'].shape[0]+grouped_test2.get_group('4wd')['price'].shape[0]+grouped_test2.get_group('rwd')['price'].shape[0]-3\n",
        "scipy.stats.f.ppf(q=1-.05, dfn=dfn1, dfd=dfd1)\n"
      ]
    }
  ],
  "metadata": {
    "colab": {
      "name": "ANOVA sample code.ipynb",
      "provenance": []
    },
    "kernelspec": {
      "display_name": "Python 3",
      "name": "python3"
    },
    "language_info": {
      "name": "python"
    }
  },
  "nbformat": 4,
  "nbformat_minor": 0
}
