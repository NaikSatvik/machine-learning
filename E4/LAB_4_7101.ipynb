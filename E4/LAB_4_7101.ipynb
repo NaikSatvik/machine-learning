{
  "cells": [
    {
      "cell_type": "code",
      "execution_count": 2,
      "metadata": {
        "colab": {
          "base_uri": "https://localhost:8080/"
        },
        "id": "tOjhF1qpEGMU",
        "outputId": "6b8c8cc3-25d5-434d-ff69-0327a350d83d"
      },
      "outputs": [
        {
          "data": {
            "text/plain": [
              "Index(['holiday', 'temp', 'rain_1h', 'snow_1h', 'clouds_all', 'weather_main',\n",
              "       'weather_description', 'date_time', 'traffic_volume'],\n",
              "      dtype='object')"
            ]
          },
          "execution_count": 2,
          "metadata": {},
          "output_type": "execute_result"
        }
      ],
      "source": [
        "#Access local data\n",
        "import pandas as pd\n",
        "import numpy as np\n",
        "import matplotlib.pyplot as plt\n",
        "import seaborn as sns\n",
        "import os\n",
        "df=pd.read_csv(\"Metro_Interstate_Traffic_Volume.csv\")  \n",
        "df.head(10)\n",
        "df.columns"
      ]
    },
    {
      "cell_type": "code",
      "execution_count": 5,
      "metadata": {
        "colab": {
          "base_uri": "https://localhost:8080/",
          "height": 424
        },
        "id": "c2VL7z0Pr1gP",
        "outputId": "3d017e25-d496-41d9-9bbc-452eeadd38b7"
      },
      "outputs": [
        {
          "data": {
            "text/html": [
              "\n",
              "  <div id=\"df-a34b9c5a-878b-4240-8d6b-6af703fd10d8\">\n",
              "    <div class=\"colab-df-container\">\n",
              "      <div>\n",
              "<style scoped>\n",
              "    .dataframe tbody tr th:only-of-type {\n",
              "        vertical-align: middle;\n",
              "    }\n",
              "\n",
              "    .dataframe tbody tr th {\n",
              "        vertical-align: top;\n",
              "    }\n",
              "\n",
              "    .dataframe thead th {\n",
              "        text-align: right;\n",
              "    }\n",
              "</style>\n",
              "<table border=\"1\" class=\"dataframe\">\n",
              "  <thead>\n",
              "    <tr style=\"text-align: right;\">\n",
              "      <th></th>\n",
              "      <th>holiday</th>\n",
              "      <th>temp</th>\n",
              "      <th>rain_1h</th>\n",
              "      <th>snow_1h</th>\n",
              "      <th>clouds_all</th>\n",
              "      <th>weather_main</th>\n",
              "      <th>weather_description</th>\n",
              "      <th>date_time</th>\n",
              "      <th>traffic_volume</th>\n",
              "      <th>date</th>\n",
              "      <th>delta</th>\n",
              "    </tr>\n",
              "  </thead>\n",
              "  <tbody>\n",
              "    <tr>\n",
              "      <th>0</th>\n",
              "      <td>None</td>\n",
              "      <td>288.28</td>\n",
              "      <td>0.0</td>\n",
              "      <td>0.0</td>\n",
              "      <td>40</td>\n",
              "      <td>Clouds</td>\n",
              "      <td>scattered clouds</td>\n",
              "      <td>2012-10-02 09:00:00</td>\n",
              "      <td>5545</td>\n",
              "      <td>2012-10-02 09:00:00</td>\n",
              "      <td>0</td>\n",
              "    </tr>\n",
              "    <tr>\n",
              "      <th>1</th>\n",
              "      <td>None</td>\n",
              "      <td>289.36</td>\n",
              "      <td>0.0</td>\n",
              "      <td>0.0</td>\n",
              "      <td>75</td>\n",
              "      <td>Clouds</td>\n",
              "      <td>broken clouds</td>\n",
              "      <td>2012-10-02 10:00:00</td>\n",
              "      <td>4516</td>\n",
              "      <td>2012-10-02 10:00:00</td>\n",
              "      <td>0</td>\n",
              "    </tr>\n",
              "    <tr>\n",
              "      <th>2</th>\n",
              "      <td>None</td>\n",
              "      <td>289.58</td>\n",
              "      <td>0.0</td>\n",
              "      <td>0.0</td>\n",
              "      <td>90</td>\n",
              "      <td>Clouds</td>\n",
              "      <td>overcast clouds</td>\n",
              "      <td>2012-10-02 11:00:00</td>\n",
              "      <td>4767</td>\n",
              "      <td>2012-10-02 11:00:00</td>\n",
              "      <td>0</td>\n",
              "    </tr>\n",
              "    <tr>\n",
              "      <th>3</th>\n",
              "      <td>None</td>\n",
              "      <td>290.13</td>\n",
              "      <td>0.0</td>\n",
              "      <td>0.0</td>\n",
              "      <td>90</td>\n",
              "      <td>Clouds</td>\n",
              "      <td>overcast clouds</td>\n",
              "      <td>2012-10-02 12:00:00</td>\n",
              "      <td>5026</td>\n",
              "      <td>2012-10-02 12:00:00</td>\n",
              "      <td>0</td>\n",
              "    </tr>\n",
              "    <tr>\n",
              "      <th>4</th>\n",
              "      <td>None</td>\n",
              "      <td>291.14</td>\n",
              "      <td>0.0</td>\n",
              "      <td>0.0</td>\n",
              "      <td>75</td>\n",
              "      <td>Clouds</td>\n",
              "      <td>broken clouds</td>\n",
              "      <td>2012-10-02 13:00:00</td>\n",
              "      <td>4918</td>\n",
              "      <td>2012-10-02 13:00:00</td>\n",
              "      <td>0</td>\n",
              "    </tr>\n",
              "    <tr>\n",
              "      <th>...</th>\n",
              "      <td>...</td>\n",
              "      <td>...</td>\n",
              "      <td>...</td>\n",
              "      <td>...</td>\n",
              "      <td>...</td>\n",
              "      <td>...</td>\n",
              "      <td>...</td>\n",
              "      <td>...</td>\n",
              "      <td>...</td>\n",
              "      <td>...</td>\n",
              "      <td>...</td>\n",
              "    </tr>\n",
              "    <tr>\n",
              "      <th>48199</th>\n",
              "      <td>None</td>\n",
              "      <td>283.45</td>\n",
              "      <td>0.0</td>\n",
              "      <td>0.0</td>\n",
              "      <td>75</td>\n",
              "      <td>Clouds</td>\n",
              "      <td>broken clouds</td>\n",
              "      <td>2018-09-30 19:00:00</td>\n",
              "      <td>3543</td>\n",
              "      <td>2018-09-30 19:00:00</td>\n",
              "      <td>2189</td>\n",
              "    </tr>\n",
              "    <tr>\n",
              "      <th>48200</th>\n",
              "      <td>None</td>\n",
              "      <td>282.76</td>\n",
              "      <td>0.0</td>\n",
              "      <td>0.0</td>\n",
              "      <td>90</td>\n",
              "      <td>Clouds</td>\n",
              "      <td>overcast clouds</td>\n",
              "      <td>2018-09-30 20:00:00</td>\n",
              "      <td>2781</td>\n",
              "      <td>2018-09-30 20:00:00</td>\n",
              "      <td>2189</td>\n",
              "    </tr>\n",
              "    <tr>\n",
              "      <th>48201</th>\n",
              "      <td>None</td>\n",
              "      <td>282.73</td>\n",
              "      <td>0.0</td>\n",
              "      <td>0.0</td>\n",
              "      <td>90</td>\n",
              "      <td>Thunderstorm</td>\n",
              "      <td>proximity thunderstorm</td>\n",
              "      <td>2018-09-30 21:00:00</td>\n",
              "      <td>2159</td>\n",
              "      <td>2018-09-30 21:00:00</td>\n",
              "      <td>2189</td>\n",
              "    </tr>\n",
              "    <tr>\n",
              "      <th>48202</th>\n",
              "      <td>None</td>\n",
              "      <td>282.09</td>\n",
              "      <td>0.0</td>\n",
              "      <td>0.0</td>\n",
              "      <td>90</td>\n",
              "      <td>Clouds</td>\n",
              "      <td>overcast clouds</td>\n",
              "      <td>2018-09-30 22:00:00</td>\n",
              "      <td>1450</td>\n",
              "      <td>2018-09-30 22:00:00</td>\n",
              "      <td>2189</td>\n",
              "    </tr>\n",
              "    <tr>\n",
              "      <th>48203</th>\n",
              "      <td>None</td>\n",
              "      <td>282.12</td>\n",
              "      <td>0.0</td>\n",
              "      <td>0.0</td>\n",
              "      <td>90</td>\n",
              "      <td>Clouds</td>\n",
              "      <td>overcast clouds</td>\n",
              "      <td>2018-09-30 23:00:00</td>\n",
              "      <td>954</td>\n",
              "      <td>2018-09-30 23:00:00</td>\n",
              "      <td>2189</td>\n",
              "    </tr>\n",
              "  </tbody>\n",
              "</table>\n",
              "<p>48204 rows × 11 columns</p>\n",
              "</div>\n",
              "      <button class=\"colab-df-convert\" onclick=\"convertToInteractive('df-a34b9c5a-878b-4240-8d6b-6af703fd10d8')\"\n",
              "              title=\"Convert this dataframe to an interactive table.\"\n",
              "              style=\"display:none;\">\n",
              "        \n",
              "  <svg xmlns=\"http://www.w3.org/2000/svg\" height=\"24px\"viewBox=\"0 0 24 24\"\n",
              "       width=\"24px\">\n",
              "    <path d=\"M0 0h24v24H0V0z\" fill=\"none\"/>\n",
              "    <path d=\"M18.56 5.44l.94 2.06.94-2.06 2.06-.94-2.06-.94-.94-2.06-.94 2.06-2.06.94zm-11 1L8.5 8.5l.94-2.06 2.06-.94-2.06-.94L8.5 2.5l-.94 2.06-2.06.94zm10 10l.94 2.06.94-2.06 2.06-.94-2.06-.94-.94-2.06-.94 2.06-2.06.94z\"/><path d=\"M17.41 7.96l-1.37-1.37c-.4-.4-.92-.59-1.43-.59-.52 0-1.04.2-1.43.59L10.3 9.45l-7.72 7.72c-.78.78-.78 2.05 0 2.83L4 21.41c.39.39.9.59 1.41.59.51 0 1.02-.2 1.41-.59l7.78-7.78 2.81-2.81c.8-.78.8-2.07 0-2.86zM5.41 20L4 18.59l7.72-7.72 1.47 1.35L5.41 20z\"/>\n",
              "  </svg>\n",
              "      </button>\n",
              "      \n",
              "  <style>\n",
              "    .colab-df-container {\n",
              "      display:flex;\n",
              "      flex-wrap:wrap;\n",
              "      gap: 12px;\n",
              "    }\n",
              "\n",
              "    .colab-df-convert {\n",
              "      background-color: #E8F0FE;\n",
              "      border: none;\n",
              "      border-radius: 50%;\n",
              "      cursor: pointer;\n",
              "      display: none;\n",
              "      fill: #1967D2;\n",
              "      height: 32px;\n",
              "      padding: 0 0 0 0;\n",
              "      width: 32px;\n",
              "    }\n",
              "\n",
              "    .colab-df-convert:hover {\n",
              "      background-color: #E2EBFA;\n",
              "      box-shadow: 0px 1px 2px rgba(60, 64, 67, 0.3), 0px 1px 3px 1px rgba(60, 64, 67, 0.15);\n",
              "      fill: #174EA6;\n",
              "    }\n",
              "\n",
              "    [theme=dark] .colab-df-convert {\n",
              "      background-color: #3B4455;\n",
              "      fill: #D2E3FC;\n",
              "    }\n",
              "\n",
              "    [theme=dark] .colab-df-convert:hover {\n",
              "      background-color: #434B5C;\n",
              "      box-shadow: 0px 1px 3px 1px rgba(0, 0, 0, 0.15);\n",
              "      filter: drop-shadow(0px 1px 2px rgba(0, 0, 0, 0.3));\n",
              "      fill: #FFFFFF;\n",
              "    }\n",
              "  </style>\n",
              "\n",
              "      <script>\n",
              "        const buttonEl =\n",
              "          document.querySelector('#df-a34b9c5a-878b-4240-8d6b-6af703fd10d8 button.colab-df-convert');\n",
              "        buttonEl.style.display =\n",
              "          google.colab.kernel.accessAllowed ? 'block' : 'none';\n",
              "\n",
              "        async function convertToInteractive(key) {\n",
              "          const element = document.querySelector('#df-a34b9c5a-878b-4240-8d6b-6af703fd10d8');\n",
              "          const dataTable =\n",
              "            await google.colab.kernel.invokeFunction('convertToInteractive',\n",
              "                                                     [key], {});\n",
              "          if (!dataTable) return;\n",
              "\n",
              "          const docLinkHtml = 'Like what you see? Visit the ' +\n",
              "            '<a target=\"_blank\" href=https://colab.research.google.com/notebooks/data_table.ipynb>data table notebook</a>'\n",
              "            + ' to learn more about interactive tables.';\n",
              "          element.innerHTML = '';\n",
              "          dataTable['output_type'] = 'display_data';\n",
              "          await google.colab.output.renderOutput(dataTable, element);\n",
              "          const docLink = document.createElement('div');\n",
              "          docLink.innerHTML = docLinkHtml;\n",
              "          element.appendChild(docLink);\n",
              "        }\n",
              "      </script>\n",
              "    </div>\n",
              "  </div>\n",
              "  "
            ],
            "text/plain": [
              "      holiday    temp  rain_1h  snow_1h  clouds_all  weather_main  \\\n",
              "0        None  288.28      0.0      0.0          40        Clouds   \n",
              "1        None  289.36      0.0      0.0          75        Clouds   \n",
              "2        None  289.58      0.0      0.0          90        Clouds   \n",
              "3        None  290.13      0.0      0.0          90        Clouds   \n",
              "4        None  291.14      0.0      0.0          75        Clouds   \n",
              "...       ...     ...      ...      ...         ...           ...   \n",
              "48199    None  283.45      0.0      0.0          75        Clouds   \n",
              "48200    None  282.76      0.0      0.0          90        Clouds   \n",
              "48201    None  282.73      0.0      0.0          90  Thunderstorm   \n",
              "48202    None  282.09      0.0      0.0          90        Clouds   \n",
              "48203    None  282.12      0.0      0.0          90        Clouds   \n",
              "\n",
              "          weather_description            date_time  traffic_volume  \\\n",
              "0            scattered clouds  2012-10-02 09:00:00            5545   \n",
              "1               broken clouds  2012-10-02 10:00:00            4516   \n",
              "2             overcast clouds  2012-10-02 11:00:00            4767   \n",
              "3             overcast clouds  2012-10-02 12:00:00            5026   \n",
              "4               broken clouds  2012-10-02 13:00:00            4918   \n",
              "...                       ...                  ...             ...   \n",
              "48199           broken clouds  2018-09-30 19:00:00            3543   \n",
              "48200         overcast clouds  2018-09-30 20:00:00            2781   \n",
              "48201  proximity thunderstorm  2018-09-30 21:00:00            2159   \n",
              "48202         overcast clouds  2018-09-30 22:00:00            1450   \n",
              "48203         overcast clouds  2018-09-30 23:00:00             954   \n",
              "\n",
              "                     date  delta  \n",
              "0     2012-10-02 09:00:00      0  \n",
              "1     2012-10-02 10:00:00      0  \n",
              "2     2012-10-02 11:00:00      0  \n",
              "3     2012-10-02 12:00:00      0  \n",
              "4     2012-10-02 13:00:00      0  \n",
              "...                   ...    ...  \n",
              "48199 2018-09-30 19:00:00   2189  \n",
              "48200 2018-09-30 20:00:00   2189  \n",
              "48201 2018-09-30 21:00:00   2189  \n",
              "48202 2018-09-30 22:00:00   2189  \n",
              "48203 2018-09-30 23:00:00   2189  \n",
              "\n",
              "[48204 rows x 11 columns]"
            ]
          },
          "execution_count": 5,
          "metadata": {},
          "output_type": "execute_result"
        }
      ],
      "source": [
        "df"
      ]
    },
    {
      "cell_type": "code",
      "execution_count": 4,
      "metadata": {
        "colab": {
          "base_uri": "https://localhost:8080/"
        },
        "id": "fUua-qw0FRSk",
        "outputId": "21455080-4925-4b31-9d56-d905514f4e7e"
      },
      "outputs": [
        {
          "data": {
            "text/plain": [
              "0           0\n",
              "1           0\n",
              "2           0\n",
              "3           0\n",
              "4           0\n",
              "         ... \n",
              "48199    2189\n",
              "48200    2189\n",
              "48201    2189\n",
              "48202    2189\n",
              "48203    2189\n",
              "Name: delta, Length: 48204, dtype: int64"
            ]
          },
          "execution_count": 4,
          "metadata": {},
          "output_type": "execute_result"
        }
      ],
      "source": [
        "from datetime import datetime\n",
        "\n",
        "datetime.strptime(df['date_time'].iloc[1], '%Y-%m-%d %H:%M:%S')\n",
        "df['date'] = df['date_time'].apply(lambda x: datetime.strptime(x, '%Y-%m-%d %H:%M:%S'))\n",
        "df['delta'] = (df['date'] - df['date'].min()).dt.days\n",
        "#df['delta']"
      ]
    },
    {
      "cell_type": "code",
      "execution_count": 20,
      "metadata": {
        "colab": {
          "base_uri": "https://localhost:8080/"
        },
        "id": "MCakvokvFUkW",
        "outputId": "d7906471-3caa-418e-f25f-17b3143cb741"
      },
      "outputs": [
        {
          "data": {
            "text/plain": [
              "(48204, 66)"
            ]
          },
          "execution_count": 20,
          "metadata": {},
          "output_type": "execute_result"
        }
      ],
      "source": [
        "from sklearn.preprocessing import OneHotEncoder\n",
        "\n",
        "Encode=OneHotEncoder(handle_unknown='ignore')\n",
        "X_Encode=Encode.fit_transform(df[['holiday', 'weather_main','weather_description']]).toarray()\n",
        "X_Encode.shape\n",
        "\n",
        "X = np.concatenate((X_Encode,df[['temp', 'rain_1h', 'snow_1h', 'clouds_all', 'delta',]]),axis=1)\n",
        "X.shape"
      ]
    },
    {
      "cell_type": "code",
      "execution_count": 11,
      "metadata": {
        "colab": {
          "base_uri": "https://localhost:8080/"
        },
        "id": "C25ZgJ3kFW6T",
        "outputId": "98f1f2c6-06cd-4daf-8b96-5eff5e20ff19"
      },
      "outputs": [
        {
          "data": {
            "text/plain": [
              "array([-0.01115735, -0.01018512, -0.01018512, -0.01205144, -0.01115735,\n",
              "       -0.01018512, -0.01115735,  0.03559577, -0.01018512, -0.01115735,\n",
              "       -0.01018512, -0.01018512, -0.62020574,  1.476091  , -0.19814155,\n",
              "       -0.13886845, -0.17038936, -0.37525334, -0.36518271, -0.0203734 ,\n",
              "       -0.25189014, -0.00910975, -0.14805645, -0.00910975, -0.19270664,\n",
              "       -0.32736944, -0.11700422, -0.20565437, -0.13886845, -0.00644143,\n",
              "       -0.17038936, -0.0364617 , -0.09890788, -0.11377363, -0.15281551,\n",
              "       -0.01642437, -0.27425195, -0.01115735, -0.01510791, -0.20510582,\n",
              "       -0.37525334, -0.18908778, -0.34325756, -0.0531914 , -0.11899235,\n",
              "       -0.01642437, -0.03286204,  3.59552034, -0.01115735, -0.00455473,\n",
              "       -0.56502029, -0.00788919, -0.0203734 , -0.0782017 , -0.05098909,\n",
              "       -0.00644143, -0.03617535, -0.01764297, -0.03348873, -0.02771571,\n",
              "       -0.01932751,  0.53037038, -0.00746314, -0.02722834, -0.23996279,\n",
              "       -1.74204093])"
            ]
          },
          "execution_count": 11,
          "metadata": {},
          "output_type": "execute_result"
        }
      ],
      "source": [
        "# standard scaler\n",
        "from sklearn.preprocessing import StandardScaler\n",
        "scaler = StandardScaler()\n",
        "X_scaled = scaler.fit_transform(X)\n",
        "X_scaled[0]"
      ]
    },
    {
      "cell_type": "code",
      "execution_count": 12,
      "metadata": {
        "id": "wbh4T5h1FbWr"
      },
      "outputs": [],
      "source": [
        "# Train Test Split\n",
        "from sklearn.model_selection import train_test_split\n",
        "X_train, X_test, y_train, y_test = train_test_split(X_scaled, df['traffic_volume'], test_size=0.2, random_state=42)"
      ]
    },
    {
      "cell_type": "code",
      "execution_count": 21,
      "metadata": {
        "colab": {
          "base_uri": "https://localhost:8080/"
        },
        "id": "rzyZjQjIFfUi",
        "outputId": "3b73f009-828f-4318-8fcd-abb0f4adcca8"
      },
      "outputs": [
        {
          "data": {
            "text/plain": [
              "LinearRegression()"
            ]
          },
          "execution_count": 21,
          "metadata": {},
          "output_type": "execute_result"
        }
      ],
      "source": [
        "#Multiple regression model\n",
        "from sklearn.linear_model import LinearRegression\n",
        "\n",
        "lr = LinearRegression()\n",
        "\n",
        "lr.fit(X_train, y_train)"
      ]
    },
    {
      "cell_type": "code",
      "execution_count": 25,
      "metadata": {
        "colab": {
          "base_uri": "https://localhost:8080/"
        },
        "id": "LIUvNNqfFhFV",
        "outputId": "19b353a8-0d87-414e-bebe-527cfe06318d"
      },
      "outputs": [
        {
          "name": "stdout",
          "output_type": "stream",
          "text": [
            "For Multiple Linear Regression:\n",
            "MSE for test data is 3747243.216672318\n",
            "R-squared for test data is 0.05217393068890741\n"
          ]
        }
      ],
      "source": [
        "Y_pred_lr=lr.predict(X_test) # this function is used to predict the price parameter x is array\n",
        "\n",
        "print(\"For Multiple Linear Regression:\")\n",
        "\n",
        "# MSE for test data\n",
        "from sklearn.metrics import mean_squared_error\n",
        "print(\"MSE for test data is\",mean_squared_error(y_test,Y_pred_lr))\n",
        "\n",
        "# R-squared for test data\n",
        "from sklearn.metrics import r2_score\n",
        "print(\"R-squared for test data is\",r2_score(y_test,Y_pred_lr))"
      ]
    },
    {
      "cell_type": "markdown",
      "metadata": {
        "id": "O7B1CiQ2Ftul"
      },
      "source": [
        "Polynomial Regression and Pipelines\n"
      ]
    },
    {
      "cell_type": "code",
      "execution_count": 23,
      "metadata": {
        "colab": {
          "base_uri": "https://localhost:8080/"
        },
        "id": "rcktxMI8Fo2h",
        "outputId": "a81dd8dd-5990-4884-b46f-da6fac279127"
      },
      "outputs": [
        {
          "data": {
            "text/plain": [
              "Pipeline(steps=[('polynomial', PolynomialFeatures()),\n",
              "                ('model', LinearRegression())])"
            ]
          },
          "execution_count": 23,
          "metadata": {},
          "output_type": "execute_result"
        }
      ],
      "source": [
        "from sklearn.preprocessing import PolynomialFeatures\n",
        "from sklearn.pipeline import Pipeline\n",
        "\n",
        "#We create the pipeline, by creating a list of tuples including the name of the model or estimator and its corresponding constructor.\n",
        "Input=[('polynomial', PolynomialFeatures(2)), ('model',LinearRegression())]\n",
        "#we input the list as an argument to the pipeline constructo\n",
        "pipe=Pipeline(Input)\n",
        "pipe\n"
      ]
    },
    {
      "cell_type": "code",
      "execution_count": 24,
      "metadata": {
        "colab": {
          "base_uri": "https://localhost:8080/"
        },
        "id": "UOEKQTUIFyIG",
        "outputId": "543e183f-a7d2-4635-f8cf-9a3835cd71b6"
      },
      "outputs": [
        {
          "data": {
            "text/plain": [
              "Pipeline(steps=[('polynomial', PolynomialFeatures()),\n",
              "                ('model', LinearRegression())])"
            ]
          },
          "execution_count": 24,
          "metadata": {},
          "output_type": "execute_result"
        }
      ],
      "source": [
        "pipe.fit(X_train,y_train)"
      ]
    },
    {
      "cell_type": "code",
      "execution_count": 19,
      "metadata": {
        "colab": {
          "base_uri": "https://localhost:8080/"
        },
        "id": "mBtQOmEoFzwF",
        "outputId": "e226fe93-369e-4681-b703-63fa55734718"
      },
      "outputs": [
        {
          "name": "stdout",
          "output_type": "stream",
          "text": [
            "For Polynomial Regression:\n",
            "MSE for test data is 2.531437925812273e+26\n",
            "R-squared for test data is -6.403008078718704e+19\n"
          ]
        }
      ],
      "source": [
        "y_pred_poly = pipe.predict(X_test)\n",
        "\n",
        "print(\"For Polynomial Regression:\")\n",
        "# MSE for test data\n",
        "from sklearn.metrics import mean_squared_error\n",
        "print(\"MSE for test data is\",mean_squared_error(y_test,y_pred_poly))\n",
        "\n",
        "# R-squared for test data\n",
        "from sklearn.metrics import r2_score\n",
        "print(\"R-squared for test data is\",r2_score(y_test,y_pred_poly))"
      ]
    }
  ],
  "metadata": {
    "colab": {
      "name": "GROUP_7101_PR4.ipynb",
      "provenance": []
    },
    "kernelspec": {
      "display_name": "Python 3.10.4 64-bit",
      "language": "python",
      "name": "python3"
    },
    "language_info": {
      "name": "python",
      "version": "3.10.4"
    },
    "vscode": {
      "interpreter": {
        "hash": "916dbcbb3f70747c44a77c7bcd40155683ae19c65e1c03b4aa3499c5328201f1"
      }
    }
  },
  "nbformat": 4,
  "nbformat_minor": 0
}
